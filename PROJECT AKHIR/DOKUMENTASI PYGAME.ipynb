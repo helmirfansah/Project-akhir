{
 "cells": [
  {
   "cell_type": "markdown",
   "metadata": {},
   "source": [
    "# DOKUMENTASI PYGAME\n",
    "### DIBUAT OLEH:\n",
    "1. Akhmad Helmi Irfansah (18044100057)\n",
    "2. Ahmad Farkhan Aris (180441100047)\n",
    "PENGERTIAN PYGAME\n",
    "Pygame adalah serangkaian modul Python lintas-platform yang dirancang untuk menulis video game. Ini termasuk grafik komputer dan pustaka suara yang dirancang untuk digunakan dengan bahasa pemrograman Python.\n",
    "CARA INSTALASI PYGAME\n",
    "PyGame dapat kita install menggunakan pip dengan perintah berikut:\n",
    "\n",
    "sudo pip install pygame\n",
    "\n",
    "Atau bisa juga melalui apt:\n",
    "\n",
    "- sudo apt-get install python3-pygame\n",
    "Maka modul pygame akan terinstal ke dalam lingkungan OS (Sistem Opearsi).\n",
    "\n",
    "Buat yang menggunakan Virtual Environtment gunakan perintah ini:\n",
    "- membuat virtual env: virtualenv -p python3 pygame\n",
    "- pindah ke direktori virtualenv: cd pygmae\n",
    "- aktifkan virtual env: bin/activate\n",
    "- install modul pygame di dalam virtualenv: pip install pygame\n",
    "Sekarang kita tes dulu, apakah modul pygame sudah terinstal atau tidak. Silahkan masuk ke shell python dengan mengetik perintah python3 atau python(di virtual env).\n",
    "\n",
    "Ketik perintah berikut:\n",
    "- import pygame\n"
   ]
  },
  {
   "cell_type": "markdown",
   "metadata": {},
   "source": [
    "## DOKUMENTASI TUGAS PYGAME PEMROGRAMAN BERORIENTASI OBJECT\n",
    "### CLASS DAN METHOD SPACE SHOOTER\n",
    "![](./gambar/Explosion.png)\n",
    "#### 1. Class Explosion: Memiliki Property:\n",
    "- self.size untuk mengatur ukuran object\n",
    "- self.image merupakan bentuk permukaan dengan ukuran explosion(ledakan)\n",
    "- self.rect yaitu letak koordinat dari self.image Method\n",
    "![](./gambar/Player1.png)\n",
    "![](./gambar/Player2.png)\n",
    "#### 2. Class Player: Memiliki Property:\n",
    "- self.image merupakan bentuk permukaan dengan ukuran Player\n",
    "- self.rect yaitu letak koordinat dari self.image Method\n",
    "- self.image merupakan bentuk permukaan dengan ukuran explosion(ledakan)\n",
    "- self.shield merupakan jumlah tenaga / darah pada player\n",
    "- self.shoot_delay merupakan delay waktu menembak player\n",
    "- self.lives merupakan nyawa dari player\n",
    "- self.power merupakan tambahan kekuatan menembak pada player\n",
    "![](./gambar/Mob.png)\n",
    "#### 3. Class Mob: Memiliki Property:\n",
    "- self.image merupakan bentuk permukaan dengan ukuran Mob\n",
    "- self.rect yaitu letak koordinat dari self.image_orig Method\n",
    "- self.image_orig merupakan bentuk permukaan dengan ukuran explosion(ledakan)\n",
    "- self.rotation merupakan nilai memutar dari musuh/batu\n",
    "![](./gambar/Pow.png)\n",
    "![](./gambar/Pow2.png)\n",
    "#### 4. Class Pow: Memiliki Property:\n",
    "- self.image merupakan bentuk permukaan dengan ukuran Pow\n",
    "- self.rect yaitu letak koordinat dari self.image Method\n",
    "- self.image_orig merupakan bentuk permukaan dengan ukuran Pow\n",
    "- self.type merupakan method untuk menentukkan pilihan power\n",
    "![](./gambar/Bullet.png)\n",
    "#### 5. Class Bullet: Memiliki Property:\n",
    "- self.image merupakan bentuk permukaan dengan ukuran Bullet\n",
    "- self.rect yaitu letak koordinat dari self.image Method\n",
    "- self.image merupakan bentuk permukaan dengan ukuran Bullet\n",
    "![](./gambar/Missile.png)\n",
    "#### 6. Class Missile: Memiliki Property:\n",
    "- self.image merupakan bentuk permukaan dengan ukuran Missile\n",
    "- self.rect yaitu letak koordinat dari self.image Method\n",
    "- self.image merupakan bentuk permukaan dengan ukuran Missile\n",
    "### Screenshot Program\n",
    "![](./gambar/Game.png)\n",
    "![](./gambar/Game1.png)\n",
    "![](./gambar/Game2.png)\n",
    "\n",
    "### Implementasi materi OOP pada project\n",
    "Implementasi materi OOP pada project Spaceshooter ini adalah looping(perulangan) dan penyeleksian kondisi. "
   ]
  },
  {
   "cell_type": "code",
   "execution_count": null,
   "metadata": {},
   "outputs": [],
   "source": []
  }
 ],
 "metadata": {
  "kernelspec": {
   "display_name": "Python 3",
   "language": "python",
   "name": "python3"
  },
  "language_info": {
   "codemirror_mode": {
    "name": "ipython",
    "version": 3
   },
   "file_extension": ".py",
   "mimetype": "text/x-python",
   "name": "python",
   "nbconvert_exporter": "python",
   "pygments_lexer": "ipython3",
   "version": "3.7.1"
  }
 },
 "nbformat": 4,
 "nbformat_minor": 2
}
